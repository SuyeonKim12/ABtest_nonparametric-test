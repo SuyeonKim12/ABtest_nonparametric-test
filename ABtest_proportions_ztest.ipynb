{
 "cells": [
  {
   "cell_type": "code",
   "execution_count": 15,
   "metadata": {},
   "outputs": [],
   "source": [
    "import pandas as pd\n",
    "import numpy as np\n",
    "import seaborn as sns\n",
    "import matplotlib.pyplot as plt\n",
    "\n",
    "from scipy import stats\n",
    "from scipy.stats import shapiro"
   ]
  },
  {
   "cell_type": "code",
   "execution_count": null,
   "metadata": {},
   "outputs": [
    {
     "data": {
      "application/vnd.microsoft.datawrangler.viewer.v0+json": {
       "columns": [
        {
         "name": "index",
         "rawType": "int64",
         "type": "integer"
        },
        {
         "name": "userid",
         "rawType": "int64",
         "type": "integer"
        },
        {
         "name": "version",
         "rawType": "object",
         "type": "string"
        },
        {
         "name": "sum_gamerounds",
         "rawType": "int64",
         "type": "integer"
        },
        {
         "name": "retention_1",
         "rawType": "bool",
         "type": "boolean"
        },
        {
         "name": "retention_7",
         "rawType": "bool",
         "type": "boolean"
        }
       ],
       "conversionMethod": "pd.DataFrame",
       "ref": "addd5036-1e08-42f6-ad81-c25691b0407f",
       "rows": [
        [
         "0",
         "116",
         "gate_30",
         "3",
         "False",
         "False"
        ],
        [
         "1",
         "337",
         "gate_30",
         "38",
         "True",
         "False"
        ],
        [
         "2",
         "377",
         "gate_40",
         "165",
         "True",
         "False"
        ],
        [
         "3",
         "483",
         "gate_40",
         "1",
         "False",
         "False"
        ],
        [
         "4",
         "488",
         "gate_40",
         "179",
         "True",
         "True"
        ]
       ],
       "shape": {
        "columns": 5,
        "rows": 5
       }
      },
      "text/html": [
       "<div>\n",
       "<style scoped>\n",
       "    .dataframe tbody tr th:only-of-type {\n",
       "        vertical-align: middle;\n",
       "    }\n",
       "\n",
       "    .dataframe tbody tr th {\n",
       "        vertical-align: top;\n",
       "    }\n",
       "\n",
       "    .dataframe thead th {\n",
       "        text-align: right;\n",
       "    }\n",
       "</style>\n",
       "<table border=\"1\" class=\"dataframe\">\n",
       "  <thead>\n",
       "    <tr style=\"text-align: right;\">\n",
       "      <th></th>\n",
       "      <th>userid</th>\n",
       "      <th>version</th>\n",
       "      <th>sum_gamerounds</th>\n",
       "      <th>retention_1</th>\n",
       "      <th>retention_7</th>\n",
       "    </tr>\n",
       "  </thead>\n",
       "  <tbody>\n",
       "    <tr>\n",
       "      <th>0</th>\n",
       "      <td>116</td>\n",
       "      <td>gate_30</td>\n",
       "      <td>3</td>\n",
       "      <td>False</td>\n",
       "      <td>False</td>\n",
       "    </tr>\n",
       "    <tr>\n",
       "      <th>1</th>\n",
       "      <td>337</td>\n",
       "      <td>gate_30</td>\n",
       "      <td>38</td>\n",
       "      <td>True</td>\n",
       "      <td>False</td>\n",
       "    </tr>\n",
       "    <tr>\n",
       "      <th>2</th>\n",
       "      <td>377</td>\n",
       "      <td>gate_40</td>\n",
       "      <td>165</td>\n",
       "      <td>True</td>\n",
       "      <td>False</td>\n",
       "    </tr>\n",
       "    <tr>\n",
       "      <th>3</th>\n",
       "      <td>483</td>\n",
       "      <td>gate_40</td>\n",
       "      <td>1</td>\n",
       "      <td>False</td>\n",
       "      <td>False</td>\n",
       "    </tr>\n",
       "    <tr>\n",
       "      <th>4</th>\n",
       "      <td>488</td>\n",
       "      <td>gate_40</td>\n",
       "      <td>179</td>\n",
       "      <td>True</td>\n",
       "      <td>True</td>\n",
       "    </tr>\n",
       "  </tbody>\n",
       "</table>\n",
       "</div>"
      ],
      "text/plain": [
       "   userid  version  sum_gamerounds  retention_1  retention_7\n",
       "0     116  gate_30               3        False        False\n",
       "1     337  gate_30              38         True        False\n",
       "2     377  gate_40             165         True        False\n",
       "3     483  gate_40               1        False        False\n",
       "4     488  gate_40             179         True         True"
      ]
     },
     "execution_count": 1,
     "metadata": {},
     "output_type": "execute_result"
    }
   ],
   "source": [
    "# Load the dataset\n",
    "cookie = pd.read_csv('/Users/suyeonkim/Documents/IAA/취준/Resume/ncsu format/wells fargo referred/side project/cookie_cats.csv')\n",
    "\n",
    "cookie.head()"
   ]
  },
  {
   "cell_type": "code",
   "execution_count": 2,
   "metadata": {},
   "outputs": [
    {
     "name": "stdout",
     "output_type": "stream",
     "text": [
      "<class 'pandas.core.frame.DataFrame'>\n",
      "RangeIndex: 90189 entries, 0 to 90188\n",
      "Data columns (total 5 columns):\n",
      " #   Column          Non-Null Count  Dtype \n",
      "---  ------          --------------  ----- \n",
      " 0   userid          90189 non-null  int64 \n",
      " 1   version         90189 non-null  object\n",
      " 2   sum_gamerounds  90189 non-null  int64 \n",
      " 3   retention_1     90189 non-null  bool  \n",
      " 4   retention_7     90189 non-null  bool  \n",
      "dtypes: bool(2), int64(2), object(1)\n",
      "memory usage: 2.2+ MB\n"
     ]
    }
   ],
   "source": [
    "cookie.info()"
   ]
  },
  {
   "cell_type": "code",
   "execution_count": null,
   "metadata": {},
   "outputs": [
    {
     "data": {
      "application/vnd.microsoft.datawrangler.viewer.v0+json": {
       "columns": [
        {
         "name": "index",
         "rawType": "object",
         "type": "string"
        },
        {
         "name": "userid",
         "rawType": "float64",
         "type": "float"
        },
        {
         "name": "sum_gamerounds",
         "rawType": "float64",
         "type": "float"
        }
       ],
       "conversionMethod": "pd.DataFrame",
       "ref": "8de52a96-a48b-43a4-ab36-9f2abf0f1dcb",
       "rows": [
        [
         "count",
         "90189.0",
         "90189.0"
        ],
        [
         "mean",
         "4998412.234496446",
         "51.8724567297564"
        ],
        [
         "std",
         "2883285.607700425",
         "195.05085754201596"
        ],
        [
         "min",
         "116.0",
         "0.0"
        ],
        [
         "25%",
         "2512230.0",
         "5.0"
        ],
        [
         "50%",
         "4995815.0",
         "16.0"
        ],
        [
         "75%",
         "7496452.0",
         "51.0"
        ],
        [
         "max",
         "9999861.0",
         "49854.0"
        ]
       ],
       "shape": {
        "columns": 2,
        "rows": 8
       }
      },
      "text/html": [
       "<div>\n",
       "<style scoped>\n",
       "    .dataframe tbody tr th:only-of-type {\n",
       "        vertical-align: middle;\n",
       "    }\n",
       "\n",
       "    .dataframe tbody tr th {\n",
       "        vertical-align: top;\n",
       "    }\n",
       "\n",
       "    .dataframe thead th {\n",
       "        text-align: right;\n",
       "    }\n",
       "</style>\n",
       "<table border=\"1\" class=\"dataframe\">\n",
       "  <thead>\n",
       "    <tr style=\"text-align: right;\">\n",
       "      <th></th>\n",
       "      <th>userid</th>\n",
       "      <th>sum_gamerounds</th>\n",
       "    </tr>\n",
       "  </thead>\n",
       "  <tbody>\n",
       "    <tr>\n",
       "      <th>count</th>\n",
       "      <td>9.018900e+04</td>\n",
       "      <td>90189.000000</td>\n",
       "    </tr>\n",
       "    <tr>\n",
       "      <th>mean</th>\n",
       "      <td>4.998412e+06</td>\n",
       "      <td>51.872457</td>\n",
       "    </tr>\n",
       "    <tr>\n",
       "      <th>std</th>\n",
       "      <td>2.883286e+06</td>\n",
       "      <td>195.050858</td>\n",
       "    </tr>\n",
       "    <tr>\n",
       "      <th>min</th>\n",
       "      <td>1.160000e+02</td>\n",
       "      <td>0.000000</td>\n",
       "    </tr>\n",
       "    <tr>\n",
       "      <th>25%</th>\n",
       "      <td>2.512230e+06</td>\n",
       "      <td>5.000000</td>\n",
       "    </tr>\n",
       "    <tr>\n",
       "      <th>50%</th>\n",
       "      <td>4.995815e+06</td>\n",
       "      <td>16.000000</td>\n",
       "    </tr>\n",
       "    <tr>\n",
       "      <th>75%</th>\n",
       "      <td>7.496452e+06</td>\n",
       "      <td>51.000000</td>\n",
       "    </tr>\n",
       "    <tr>\n",
       "      <th>max</th>\n",
       "      <td>9.999861e+06</td>\n",
       "      <td>49854.000000</td>\n",
       "    </tr>\n",
       "  </tbody>\n",
       "</table>\n",
       "</div>"
      ],
      "text/plain": [
       "             userid  sum_gamerounds\n",
       "count  9.018900e+04    90189.000000\n",
       "mean   4.998412e+06       51.872457\n",
       "std    2.883286e+06      195.050858\n",
       "min    1.160000e+02        0.000000\n",
       "25%    2.512230e+06        5.000000\n",
       "50%    4.995815e+06       16.000000\n",
       "75%    7.496452e+06       51.000000\n",
       "max    9.999861e+06    49854.000000"
      ]
     },
     "execution_count": 3,
     "metadata": {},
     "output_type": "execute_result"
    }
   ],
   "source": [
    "cookie.describe()"
   ]
  },
  {
   "cell_type": "code",
   "execution_count": 4,
   "metadata": {},
   "outputs": [
    {
     "data": {
      "text/plain": [
       "userid            0\n",
       "version           0\n",
       "sum_gamerounds    0\n",
       "retention_1       0\n",
       "retention_7       0\n",
       "dtype: int64"
      ]
     },
     "execution_count": 4,
     "metadata": {},
     "output_type": "execute_result"
    }
   ],
   "source": [
    "cookie.isnull().sum()"
   ]
  },
  {
   "cell_type": "code",
   "execution_count": null,
   "metadata": {},
   "outputs": [
    {
     "name": "stdout",
     "output_type": "stream",
     "text": [
      "True\n"
     ]
    }
   ],
   "source": [
    "# Check if the userid is unique\n",
    "print(cookie.userid.nunique() == cookie.shape[0])"
   ]
  },
  {
   "cell_type": "markdown",
   "metadata": {},
   "source": [
    "# EDA"
   ]
  },
  {
   "cell_type": "code",
   "execution_count": 5,
   "metadata": {},
   "outputs": [
    {
     "data": {
      "application/vnd.microsoft.datawrangler.viewer.v0+json": {
       "columns": [
        {
         "name": "version",
         "rawType": "object",
         "type": "string"
        },
        {
         "name": "count",
         "rawType": "int64",
         "type": "integer"
        },
        {
         "name": "median",
         "rawType": "float64",
         "type": "float"
        },
        {
         "name": "mean",
         "rawType": "float64",
         "type": "float"
        },
        {
         "name": "std",
         "rawType": "float64",
         "type": "float"
        },
        {
         "name": "max",
         "rawType": "int64",
         "type": "integer"
        }
       ],
       "conversionMethod": "pd.DataFrame",
       "ref": "068b474c-608c-4bfb-8ea6-ac810aacf5f9",
       "rows": [
        [
         "gate_30",
         "44700",
         "17.0",
         "52.45626398210291",
         "256.7164231160407",
         "49854"
        ],
        [
         "gate_40",
         "45489",
         "16.0",
         "51.29877552814966",
         "103.29441621652809",
         "2640"
        ]
       ],
       "shape": {
        "columns": 5,
        "rows": 2
       }
      },
      "text/html": [
       "<div>\n",
       "<style scoped>\n",
       "    .dataframe tbody tr th:only-of-type {\n",
       "        vertical-align: middle;\n",
       "    }\n",
       "\n",
       "    .dataframe tbody tr th {\n",
       "        vertical-align: top;\n",
       "    }\n",
       "\n",
       "    .dataframe thead th {\n",
       "        text-align: right;\n",
       "    }\n",
       "</style>\n",
       "<table border=\"1\" class=\"dataframe\">\n",
       "  <thead>\n",
       "    <tr style=\"text-align: right;\">\n",
       "      <th></th>\n",
       "      <th>count</th>\n",
       "      <th>median</th>\n",
       "      <th>mean</th>\n",
       "      <th>std</th>\n",
       "      <th>max</th>\n",
       "    </tr>\n",
       "    <tr>\n",
       "      <th>version</th>\n",
       "      <th></th>\n",
       "      <th></th>\n",
       "      <th></th>\n",
       "      <th></th>\n",
       "      <th></th>\n",
       "    </tr>\n",
       "  </thead>\n",
       "  <tbody>\n",
       "    <tr>\n",
       "      <th>gate_30</th>\n",
       "      <td>44700</td>\n",
       "      <td>17.0</td>\n",
       "      <td>52.456264</td>\n",
       "      <td>256.716423</td>\n",
       "      <td>49854</td>\n",
       "    </tr>\n",
       "    <tr>\n",
       "      <th>gate_40</th>\n",
       "      <td>45489</td>\n",
       "      <td>16.0</td>\n",
       "      <td>51.298776</td>\n",
       "      <td>103.294416</td>\n",
       "      <td>2640</td>\n",
       "    </tr>\n",
       "  </tbody>\n",
       "</table>\n",
       "</div>"
      ],
      "text/plain": [
       "         count  median       mean         std    max\n",
       "version                                             \n",
       "gate_30  44700    17.0  52.456264  256.716423  49854\n",
       "gate_40  45489    16.0  51.298776  103.294416   2640"
      ]
     },
     "execution_count": 5,
     "metadata": {},
     "output_type": "execute_result"
    }
   ],
   "source": [
    "cookie.groupby(\"version\").sum_gamerounds.agg([\"count\", \"median\", \"mean\", \"std\", \"max\"])"
   ]
  },
  {
   "cell_type": "code",
   "execution_count": 10,
   "metadata": {},
   "outputs": [
    {
     "data": {
      "application/vnd.microsoft.datawrangler.viewer.v0+json": {
       "columns": [
        {
         "name": "('version', 'retention_1')",
         "rawType": "object",
         "type": "unknown"
        },
        {
         "name": "count",
         "rawType": "int64",
         "type": "integer"
        },
        {
         "name": "median",
         "rawType": "float64",
         "type": "float"
        },
        {
         "name": "mean",
         "rawType": "float64",
         "type": "float"
        },
        {
         "name": "std",
         "rawType": "float64",
         "type": "float"
        },
        {
         "name": "max",
         "rawType": "int64",
         "type": "integer"
        }
       ],
       "conversionMethod": "pd.DataFrame",
       "ref": "48a2bf64-9c86-480b-b745-00ab385b2ae0",
       "rows": [
        [
         "('gate_30', False)",
         "24666",
         "6.0",
         "18.379591340306494",
         "319.4232315389694",
         "49854"
        ],
        [
         "('gate_30', True)",
         "20034",
         "48.0",
         "94.41170010981332",
         "135.03769684272038",
         "2961"
        ],
        [
         "('gate_40', False)",
         "25370",
         "6.0",
         "16.34040204966496",
         "35.92575609008738",
         "1241"
        ],
        [
         "('gate_40', True)",
         "20119",
         "49.0",
         "95.3811819672946",
         "137.8872561294108",
         "2640"
        ]
       ],
       "shape": {
        "columns": 5,
        "rows": 4
       }
      },
      "text/html": [
       "<div>\n",
       "<style scoped>\n",
       "    .dataframe tbody tr th:only-of-type {\n",
       "        vertical-align: middle;\n",
       "    }\n",
       "\n",
       "    .dataframe tbody tr th {\n",
       "        vertical-align: top;\n",
       "    }\n",
       "\n",
       "    .dataframe thead th {\n",
       "        text-align: right;\n",
       "    }\n",
       "</style>\n",
       "<table border=\"1\" class=\"dataframe\">\n",
       "  <thead>\n",
       "    <tr style=\"text-align: right;\">\n",
       "      <th></th>\n",
       "      <th></th>\n",
       "      <th>count</th>\n",
       "      <th>median</th>\n",
       "      <th>mean</th>\n",
       "      <th>std</th>\n",
       "      <th>max</th>\n",
       "    </tr>\n",
       "    <tr>\n",
       "      <th>version</th>\n",
       "      <th>retention_1</th>\n",
       "      <th></th>\n",
       "      <th></th>\n",
       "      <th></th>\n",
       "      <th></th>\n",
       "      <th></th>\n",
       "    </tr>\n",
       "  </thead>\n",
       "  <tbody>\n",
       "    <tr>\n",
       "      <th rowspan=\"2\" valign=\"top\">gate_30</th>\n",
       "      <th>False</th>\n",
       "      <td>24666</td>\n",
       "      <td>6.0</td>\n",
       "      <td>18.379591</td>\n",
       "      <td>319.423232</td>\n",
       "      <td>49854</td>\n",
       "    </tr>\n",
       "    <tr>\n",
       "      <th>True</th>\n",
       "      <td>20034</td>\n",
       "      <td>48.0</td>\n",
       "      <td>94.411700</td>\n",
       "      <td>135.037697</td>\n",
       "      <td>2961</td>\n",
       "    </tr>\n",
       "    <tr>\n",
       "      <th rowspan=\"2\" valign=\"top\">gate_40</th>\n",
       "      <th>False</th>\n",
       "      <td>25370</td>\n",
       "      <td>6.0</td>\n",
       "      <td>16.340402</td>\n",
       "      <td>35.925756</td>\n",
       "      <td>1241</td>\n",
       "    </tr>\n",
       "    <tr>\n",
       "      <th>True</th>\n",
       "      <td>20119</td>\n",
       "      <td>49.0</td>\n",
       "      <td>95.381182</td>\n",
       "      <td>137.887256</td>\n",
       "      <td>2640</td>\n",
       "    </tr>\n",
       "  </tbody>\n",
       "</table>\n",
       "</div>"
      ],
      "text/plain": [
       "                     count  median       mean         std    max\n",
       "version retention_1                                             \n",
       "gate_30 False        24666     6.0  18.379591  319.423232  49854\n",
       "        True         20034    48.0  94.411700  135.037697   2961\n",
       "gate_40 False        25370     6.0  16.340402   35.925756   1241\n",
       "        True         20119    49.0  95.381182  137.887256   2640"
      ]
     },
     "execution_count": 10,
     "metadata": {},
     "output_type": "execute_result"
    }
   ],
   "source": [
    "cookie.groupby([\"version\", \"retention_1\"]).sum_gamerounds.agg([\"count\", \"median\", \"mean\", \"std\", \"max\"])"
   ]
  },
  {
   "cell_type": "code",
   "execution_count": 11,
   "metadata": {},
   "outputs": [
    {
     "data": {
      "application/vnd.microsoft.datawrangler.viewer.v0+json": {
       "columns": [
        {
         "name": "('version', 'retention_7')",
         "rawType": "object",
         "type": "unknown"
        },
        {
         "name": "count",
         "rawType": "int64",
         "type": "integer"
        },
        {
         "name": "median",
         "rawType": "float64",
         "type": "float"
        },
        {
         "name": "mean",
         "rawType": "float64",
         "type": "float"
        },
        {
         "name": "std",
         "rawType": "float64",
         "type": "float"
        },
        {
         "name": "max",
         "rawType": "int64",
         "type": "integer"
        }
       ],
       "conversionMethod": "pd.DataFrame",
       "ref": "06d1ab40-b251-40b7-8fc6-b5a4452975d7",
       "rows": [
        [
         "('gate_30', False)",
         "36198",
         "11.0",
         "25.796508094369855",
         "43.31615814629745",
         "981"
        ],
        [
         "('gate_30', True)",
         "8502",
         "105.0",
         "165.96247941660786",
         "568.0005760536161",
         "49854"
        ],
        [
         "('gate_40', False)",
         "37210",
         "11.0",
         "25.856355818328407",
         "44.40611217273376",
         "2640"
        ],
        [
         "('gate_40', True)",
         "8279",
         "111.0",
         "165.6498369368281",
         "183.79249853350288",
         "2294"
        ]
       ],
       "shape": {
        "columns": 5,
        "rows": 4
       }
      },
      "text/html": [
       "<div>\n",
       "<style scoped>\n",
       "    .dataframe tbody tr th:only-of-type {\n",
       "        vertical-align: middle;\n",
       "    }\n",
       "\n",
       "    .dataframe tbody tr th {\n",
       "        vertical-align: top;\n",
       "    }\n",
       "\n",
       "    .dataframe thead th {\n",
       "        text-align: right;\n",
       "    }\n",
       "</style>\n",
       "<table border=\"1\" class=\"dataframe\">\n",
       "  <thead>\n",
       "    <tr style=\"text-align: right;\">\n",
       "      <th></th>\n",
       "      <th></th>\n",
       "      <th>count</th>\n",
       "      <th>median</th>\n",
       "      <th>mean</th>\n",
       "      <th>std</th>\n",
       "      <th>max</th>\n",
       "    </tr>\n",
       "    <tr>\n",
       "      <th>version</th>\n",
       "      <th>retention_7</th>\n",
       "      <th></th>\n",
       "      <th></th>\n",
       "      <th></th>\n",
       "      <th></th>\n",
       "      <th></th>\n",
       "    </tr>\n",
       "  </thead>\n",
       "  <tbody>\n",
       "    <tr>\n",
       "      <th rowspan=\"2\" valign=\"top\">gate_30</th>\n",
       "      <th>False</th>\n",
       "      <td>36198</td>\n",
       "      <td>11.0</td>\n",
       "      <td>25.796508</td>\n",
       "      <td>43.316158</td>\n",
       "      <td>981</td>\n",
       "    </tr>\n",
       "    <tr>\n",
       "      <th>True</th>\n",
       "      <td>8502</td>\n",
       "      <td>105.0</td>\n",
       "      <td>165.962479</td>\n",
       "      <td>568.000576</td>\n",
       "      <td>49854</td>\n",
       "    </tr>\n",
       "    <tr>\n",
       "      <th rowspan=\"2\" valign=\"top\">gate_40</th>\n",
       "      <th>False</th>\n",
       "      <td>37210</td>\n",
       "      <td>11.0</td>\n",
       "      <td>25.856356</td>\n",
       "      <td>44.406112</td>\n",
       "      <td>2640</td>\n",
       "    </tr>\n",
       "    <tr>\n",
       "      <th>True</th>\n",
       "      <td>8279</td>\n",
       "      <td>111.0</td>\n",
       "      <td>165.649837</td>\n",
       "      <td>183.792499</td>\n",
       "      <td>2294</td>\n",
       "    </tr>\n",
       "  </tbody>\n",
       "</table>\n",
       "</div>"
      ],
      "text/plain": [
       "                     count  median        mean         std    max\n",
       "version retention_7                                              \n",
       "gate_30 False        36198    11.0   25.796508   43.316158    981\n",
       "        True          8502   105.0  165.962479  568.000576  49854\n",
       "gate_40 False        37210    11.0   25.856356   44.406112   2640\n",
       "        True          8279   111.0  165.649837  183.792499   2294"
      ]
     },
     "execution_count": 11,
     "metadata": {},
     "output_type": "execute_result"
    }
   ],
   "source": [
    "cookie.groupby([\"version\", \"retention_7\"]).sum_gamerounds.agg([\"count\", \"median\", \"mean\", \"std\", \"max\"])"
   ]
  },
  {
   "cell_type": "code",
   "execution_count": 35,
   "metadata": {},
   "outputs": [
    {
     "data": {
      "text/plain": [
       "(version\n",
       " gate_30    0.448188\n",
       " gate_40    0.442283\n",
       " Name: retention_1, dtype: float64,\n",
       " version\n",
       " gate_30    0.190201\n",
       " gate_40    0.182000\n",
       " Name: retention_7, dtype: float64)"
      ]
     },
     "execution_count": 35,
     "metadata": {},
     "output_type": "execute_result"
    }
   ],
   "source": [
    "cookie.groupby(\"version\").retention_1.mean(), cookie.groupby(\"version\").retention_7.mean()"
   ]
  },
  {
   "cell_type": "markdown",
   "metadata": {},
   "source": [
    "# Sum_gamerounds"
   ]
  },
  {
   "cell_type": "code",
   "execution_count": 20,
   "metadata": {},
   "outputs": [
    {
     "name": "stderr",
     "output_type": "stream",
     "text": [
      "/opt/anaconda3/lib/python3.11/site-packages/seaborn/_oldcore.py:1119: FutureWarning: use_inf_as_na option is deprecated and will be removed in a future version. Convert inf values to NaN before operating instead.\n",
      "  with pd.option_context('mode.use_inf_as_na', True):\n"
     ]
    },
    {
     "data": {
      "image/png": "[encoded data removed]",
      "text/plain": [
       "<Figure size 1200x600 with 2 Axes>"
      ]
     },
     "metadata": {},
     "output_type": "display_data"
    }
   ],
   "source": [
    "cookie_control = cookie[cookie['version']=='gate_30']\n",
    "cookie_control = cookie_control[cookie_control['sum_gamerounds']<=40000]\n",
    "cookie_test = cookie[cookie['version']=='gate_40']\n",
    "\n",
    "\n",
    "fig,axes = plt.subplots(1,2,figsize=(12,6))\n",
    "\n",
    "axes[0] = sns.histplot(cookie_control['sum_gamerounds'], bins=15, ax=axes[0])\n",
    "axes[0].xaxis.set_tick_params(labelsize=15)\n",
    "axes[0].yaxis.set_tick_params(labelsize=15)\n",
    "axes[0].set_title(f\"Histogram of {'sum_gamerounds'}, Control Group\",fontsize=15)\n",
    "\n",
    "axes[1] = stats.probplot(cookie_control['sum_gamerounds'], dist=\"norm\", plot=plt)\n",
    "plt.legend(['Actual','Theoretical'])\n",
    "plt.xticks(fontsize=15)\n",
    "plt.yticks(fontsize=15)\n",
    "plt.xlabel(\"theoretical quantiles\", fontsize=18)\n",
    "plt.ylabel('ordered values', fontsize=18)\n",
    "plt.title(f\"Q-Q Plot of {'sum_gamerounds'} - Control Campaign\", fontsize=15)\n",
    "plt.tight_layout()            "
   ]
  },
  {
   "cell_type": "code",
   "execution_count": 21,
   "metadata": {},
   "outputs": [
    {
     "name": "stderr",
     "output_type": "stream",
     "text": [
      "/opt/anaconda3/lib/python3.11/site-packages/seaborn/_oldcore.py:1119: FutureWarning: use_inf_as_na option is deprecated and will be removed in a future version. Convert inf values to NaN before operating instead.\n",
      "  with pd.option_context('mode.use_inf_as_na', True):\n"
     ]
    },
    {
     "data": {
      "image/png": "[encoded data removed]",
      "text/plain": [
       "<Figure size 1200x600 with 2 Axes>"
      ]
     },
     "metadata": {},
     "output_type": "display_data"
    }
   ],
   "source": [
    "\n",
    "fig,axes = plt.subplots(1,2,figsize=(12,6))\n",
    "\n",
    "axes[0] = sns.histplot(cookie_test['sum_gamerounds'], bins=15, ax=axes[0])\n",
    "axes[0].xaxis.set_tick_params(labelsize=15)\n",
    "axes[0].yaxis.set_tick_params(labelsize=15)\n",
    "axes[0].set_title(f\"Histogram of {'sum_gamerounds'}, Test Group\",fontsize=15)\n",
    "\n",
    "axes[1] = stats.probplot(cookie_test['sum_gamerounds'], dist=\"norm\", plot=plt)\n",
    "plt.legend(['Actual','Theoretical'])\n",
    "plt.xticks(fontsize=15)\n",
    "plt.yticks(fontsize=15)\n",
    "plt.xlabel(\"theoretical quantiles\", fontsize=18)\n",
    "plt.ylabel('ordered values', fontsize=18)\n",
    "plt.title(f\"Q-Q Plot of {'sum_gamerounds'} - Test Campaign\", fontsize=15)\n",
    "plt.tight_layout()            "
   ]
  },
  {
   "cell_type": "code",
   "execution_count": 28,
   "metadata": {},
   "outputs": [
    {
     "name": "stdout",
     "output_type": "stream",
     "text": [
      "Control p-value: 0.0000\n",
      "Test    p-value: 0.0000\n"
     ]
    },
    {
     "name": "stderr",
     "output_type": "stream",
     "text": [
      "/opt/anaconda3/lib/python3.11/site-packages/scipy/stats/_morestats.py:1882: UserWarning: p-value may not be accurate for N > 5000.\n",
      "  warnings.warn(\"p-value may not be accurate for N > 5000.\")\n"
     ]
    }
   ],
   "source": [
    "shapiro_control = shapiro(cookie_control['sum_gamerounds'])[1]\n",
    "shapiro_test = shapiro(cookie_test['sum_gamerounds'])[1]\n",
    "\n",
    "print(f\"Control p-value: {shapiro_control:.4f}\")\n",
    "print(f\"Test    p-value: {shapiro_test:.4f}\")\n"
   ]
  },
  {
   "cell_type": "markdown",
   "metadata": {},
   "source": [
    "If it was normal,\n",
    "1) leveneTest = stats.levene(groupA, groupB)[1] < 0.05\n",
    "        # H0: Homogeneity: False\n",
    "        # H1: Heterogeneous: True\n",
    "\n",
    "        2-1) ttest = stats.ttest_ind(groupA, groupB, equal_var=True)[1]\n",
    "        2-2) ttest = stats.ttest_ind(groupA, groupB, equal_var=False)[1]"
   ]
  },
  {
   "cell_type": "code",
   "execution_count": 31,
   "metadata": {},
   "outputs": [
    {
     "data": {
      "text/plain": [
       "0.05089155279145376"
      ]
     },
     "execution_count": 31,
     "metadata": {},
     "output_type": "execute_result"
    }
   ],
   "source": [
    "# Non-Parametric Test\n",
    "stats.mannwhitneyu(cookie_control['sum_gamerounds'], cookie_test['sum_gamerounds'])[1] "
   ]
  },
  {
   "cell_type": "markdown",
   "metadata": {},
   "source": [
    "can't tell they are statistically different"
   ]
  },
  {
   "cell_type": "code",
   "execution_count": 34,
   "metadata": {},
   "outputs": [
    {
     "name": "stdout",
     "output_type": "stream",
     "text": [
      "           Metric  Mean Difference         95% CI Significant?\n",
      "0  sum_gamerounds            -0.05  [-1.40, 1.30]            ❌\n"
     ]
    }
   ],
   "source": [
    "import numpy as np\n",
    "import pandas as pd\n",
    "\n",
    "def run_bootstrap_ab_test(control_df, test_df, metrics, n_bootstrap=10000):\n",
    " \n",
    "    results = []\n",
    "\n",
    "    def bootstrap_mean_diff(a, b, n_bootstrap=10000):\n",
    "        \"\"\"Generate bootstrap distribution of the difference in means.\"\"\"\n",
    "        diffs = []\n",
    "        for _ in range(n_bootstrap):\n",
    "            a_sample = np.random.choice(a, size=len(a), replace=True)\n",
    "            b_sample = np.random.choice(b, size=len(b), replace=True)\n",
    "            diff = b_sample.mean() - a_sample.mean()\n",
    "            diffs.append(diff)\n",
    "        return np.percentile(diffs, [2.5, 97.5]), np.mean(diffs)\n",
    "\n",
    " \n",
    "    # Extract values for control and test groups\n",
    "    control_vals = np.array(control_df[metrics])\n",
    "    test_vals = np.array(test_df[metrics])\n",
    "\n",
    "    # Run bootstrap sampling\n",
    "    ci, mean_diff = bootstrap_mean_diff(control_vals, test_vals, n_bootstrap)\n",
    "\n",
    "    # Determine significance: 95% CI should not include zero\n",
    "    significant = '✅' if ci[0] > 0 or ci[1] < 0 else '❌'\n",
    "\n",
    "    # Append result\n",
    "    results.append({\n",
    "        'Metric': metrics,\n",
    "        'Mean Difference': round(mean_diff, 2),\n",
    "        '95% CI': f\"[{ci[0]:.2f}, {ci[1]:.2f}]\",\n",
    "        'Significant?': significant\n",
    "    })\n",
    "\n",
    "    return pd.DataFrame(results)\n",
    "\n",
    "\n",
    "\n",
    "# Run the bootstrap A/B test\n",
    "results_df = run_bootstrap_ab_test(cookie_control, cookie_test, metrics = 'sum_gamerounds')\n",
    "\n",
    "# Display result\n",
    "print(results_df)\n"
   ]
  },
  {
   "cell_type": "markdown",
   "metadata": {},
   "source": [
    "Retention_1 and Retention 7"
   ]
  },
  {
   "cell_type": "code",
   "execution_count": 47,
   "metadata": {},
   "outputs": [
    {
     "name": "stdout",
     "output_type": "stream",
     "text": [
      "95% CI for retention diff: [-0.0124, 0.0006]\n"
     ]
    }
   ],
   "source": [
    "import numpy as np\n",
    "\n",
    "ctrl = cookie_control['retention_1'].values\n",
    "test = cookie_test['retention_1'].values\n",
    "\n",
    "boot_diffs = []\n",
    "for _ in range(10000):\n",
    "    boot_ctrl = np.random.choice(ctrl, size=len(ctrl), replace=True)\n",
    "    boot_test = np.random.choice(test, size=len(test), replace=True)\n",
    "    boot_diffs.append(boot_test.mean() - boot_ctrl.mean())\n",
    "\n",
    "ci_lower, ci_upper = np.percentile(boot_diffs, [2.5, 97.5])\n",
    "print(f\"95% CI for retention diff: [{ci_lower:.4f}, {ci_upper:.4f}]\")\n"
   ]
  },
  {
   "cell_type": "code",
   "execution_count": 49,
   "metadata": {},
   "outputs": [
    {
     "name": "stdout",
     "output_type": "stream",
     "text": [
      "-0.005915196587034155\n"
     ]
    }
   ],
   "source": [
    "mean_diff = cookie_test['retention_1'].mean() - cookie_control['retention_1'].mean()\n",
    "print(mean_diff)\n"
   ]
  },
  {
   "cell_type": "code",
   "execution_count": 50,
   "metadata": {},
   "outputs": [
    {
     "name": "stdout",
     "output_type": "stream",
     "text": [
      "0.499\n"
     ]
    }
   ],
   "source": [
    "p_value = np.mean(np.abs(boot_diffs) >= abs(mean_diff))\n",
    "print(p_value)"
   ]
  },
  {
   "cell_type": "code",
   "execution_count": 52,
   "metadata": {},
   "outputs": [
    {
     "name": "stdout",
     "output_type": "stream",
     "text": [
      "95% CI for retention diff: [-0.0134, -0.0030]\n"
     ]
    }
   ],
   "source": [
    "import numpy as np\n",
    "\n",
    "ctrl = cookie_control['retention_7'].values\n",
    "test = cookie_test['retention_7'].values\n",
    "\n",
    "boot_diffs2 = []\n",
    "for _ in range(10000):\n",
    "    boot_ctrl = np.random.choice(ctrl, size=len(ctrl), replace=True)\n",
    "    boot_test = np.random.choice(test, size=len(test), replace=True)\n",
    "    boot_diffs2.append(boot_test.mean() - boot_ctrl.mean())\n",
    "\n",
    "ci_lower, ci_upper = np.percentile(boot_diffs2, [2.5, 97.5])\n",
    "print(f\"95% CI for retention diff: [{ci_lower:.4f}, {ci_upper:.4f}]\")\n"
   ]
  },
  {
   "cell_type": "code",
   "execution_count": null,
   "metadata": {},
   "outputs": [
    {
     "name": "stdout",
     "output_type": "stream",
     "text": [
      "0.4998\n"
     ]
    }
   ],
   "source": [
    "mean_diff2 = cookie_test['retention_7'].mean() - cookie_control['retention_7'].mean()\n",
    "p_value2 = np.mean(np.abs(boot_diffs2) >= abs(mean_diff2))\n",
    "print(p_value2)\n"
   ]
  },
  {
   "cell_type": "code",
   "execution_count": 41,
   "metadata": {},
   "outputs": [
    {
     "name": "stdout",
     "output_type": "stream",
     "text": [
      "Control group:\n",
      "np = 20034.00, n(1-p) = 24665.00\n",
      "Test group:\n",
      "np = 20119.00, n(1-p) = 25370.00\n"
     ]
    }
   ],
   "source": [
    "# Control group\n",
    "n_control = cookie_control.shape[0]                  # All the users\n",
    "p_control = cookie_control['retention_1'].mean()     # Retention Rate\n",
    "np_control = n_control * p_control\n",
    "n1_minus_p_control = n_control * (1 - p_control)\n",
    "\n",
    "# Test group\n",
    "n_test = cookie_test.shape[0]\n",
    "p_test = cookie_test['retention_1'].mean()\n",
    "np_test = n_test * p_test\n",
    "n1_minus_p_test = n_test * (1 - p_test)\n",
    "\n",
    "# print\n",
    "print(\"Control group:\")\n",
    "print(f\"np = {np_control:.2f}, n(1-p) = {n1_minus_p_control:.2f}\")\n",
    "print(\"Test group:\")\n",
    "print(f\"np = {np_test:.2f}, n(1-p) = {n1_minus_p_test:.2f}\")\n"
   ]
  },
  {
   "cell_type": "code",
   "execution_count": 38,
   "metadata": {},
   "outputs": [
    {
     "name": "stdout",
     "output_type": "stream",
     "text": [
      "Z = 1.7871, p = 0.0739\n"
     ]
    }
   ],
   "source": [
    "from statsmodels.stats.proportion import proportions_ztest\n",
    "\n",
    "success = [\n",
    "    cookie_control['retention_1'].sum(), \n",
    "    cookie_test['retention_1'].sum()\n",
    "]\n",
    "nobs = [\n",
    "    cookie_control.shape[0],\n",
    "    cookie_test.shape[0]\n",
    "]\n",
    "\n",
    "z_stat, p_value = proportions_ztest(success, nobs)\n",
    "print(f\"Z = {z_stat:.4f}, p = {p_value:.4f}\")\n"
   ]
  },
  {
   "cell_type": "code",
   "execution_count": 39,
   "metadata": {},
   "outputs": [
    {
     "name": "stdout",
     "output_type": "stream",
     "text": [
      "Z = 3.1574, p = 0.0016\n"
     ]
    }
   ],
   "source": [
    "from statsmodels.stats.proportion import proportions_ztest\n",
    "\n",
    "success = [\n",
    "    cookie_control['retention_7'].sum(), \n",
    "    cookie_test['retention_7'].sum()\n",
    "]\n",
    "nobs = [\n",
    "    cookie_control.shape[0],\n",
    "    cookie_test.shape[0]\n",
    "]\n",
    "\n",
    "z_stat, p_value = proportions_ztest(success, nobs)\n",
    "print(f\"Z = {z_stat:.4f}, p = {p_value:.4f}\")\n"
   ]
  },
  {
   "cell_type": "code",
   "execution_count": 44,
   "metadata": {},
   "outputs": [
    {
     "name": "stdout",
     "output_type": "stream",
     "text": [
      "0.19018322557551623\n",
      "0.18200004396667327\n"
     ]
    }
   ],
   "source": [
    "print(cookie_control['retention_7'].sum()/cookie_control.shape[0])\n",
    "print(cookie_test['retention_7'].sum()/cookie_test.shape[0])"
   ]
  }
 ],
 "metadata": {
  "kernelspec": {
   "display_name": "base",
   "language": "python",
   "name": "python3"
  },
  "language_info": {
   "codemirror_mode": {
    "name": "ipython",
    "version": 3
   },
   "file_extension": ".py",
   "mimetype": "text/x-python",
   "name": "python",
   "nbconvert_exporter": "python",
   "pygments_lexer": "ipython3",
   "version": "3.11.7"
  }
 },
 "nbformat": 4,
 "nbformat_minor": 2
}
